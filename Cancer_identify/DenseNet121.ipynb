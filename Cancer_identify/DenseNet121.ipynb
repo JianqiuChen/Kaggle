{
  "cells": [
    {
      "metadata": {
        "_uuid": "8f2839f25d086af736a60e9eeb907d3b93b6e0e5",
        "_cell_guid": "b1076dfc-b9ad-4769-8c92-a6c4dae69d19",
        "trusted": true
      },
      "cell_type": "code",
      "source": "# This Python 3 environment comes with many helpful analytics libraries installed\n# It is defined by the kaggle/python docker image: https://github.com/kaggle/docker-python\n# For example, here's several helpful packages to load in \n\nimport numpy as np # linear algebra\nimport pandas as pd # data processing, CSV file I/O (e.g. pd.read_csv)\n\n# Input data files are available in the \"../input/\" directory.\n# For example, running this (by clicking run or pressing Shift+Enter) will list the files in the input directory\n\nimport os\nprint(os.listdir(\"../input\"))\n\n# Any results you write to the current directory are saved as output.",
      "execution_count": null,
      "outputs": []
    },
    {
      "metadata": {
        "_cell_guid": "79c7e3d0-c299-4dcb-8224-4455121ee9b0",
        "_uuid": "d629ff2d2480ee46fbb7e2d37f6b5fab8052498a",
        "trusted": true
      },
      "cell_type": "code",
      "source": "import cv2\nimport matplotlib.pyplot as plt\n\nimg_files = os.listdir('../input/train')[:10]\nimgs = []\nprint(img_files)\nprint(len(img_files))\nfor img_file in img_files:\n    img = cv2.imread(os.path.join('../input/train', img_file))\n    imgs.append(img)\n\nfig = plt.figure(figsize=(16,16))\nfor i in range(len(imgs)):\n    plt.subplot(1,10,i+1)\n    plt.imshow(cv2.cvtColor(imgs[i], cv2.COLOR_BGR2RGB))\n    plt.xticks([])\n    plt.yticks([])\n\nplt.show()",
      "execution_count": null,
      "outputs": []
    },
    {
      "metadata": {
        "trusted": true,
        "_uuid": "54e3a5678718e952225fd5b3d53de512ad25c903"
      },
      "cell_type": "code",
      "source": "train_set = pd.read_csv(os.path.join('../input/train_labels.csv'))\nprint(train_set.head())\nprint(train_set['label'].value_counts())",
      "execution_count": null,
      "outputs": []
    },
    {
      "metadata": {
        "trusted": true,
        "_uuid": "02dfcbde2721a05648c4bba87d90ce96ae7e5668"
      },
      "cell_type": "code",
      "source": "from sklearn.model_selection import train_test_split\n\ntrain_data, val_data = train_test_split(train_set, test_size=0.1, random_state=2018)\ntrain_data.to_csv('../working/train.csv', index=False)\nval_data.to_csv('../working/val.csv', index=False)\ntrain_len = len(train_data)\n\ndef read_images(path, image_id):\n    image_path = os.path.join(path, image_id + '.tif')\n    img = cv2.imread(image_path)\n    img = img / 255\n    \n    return img\n                \ndef generator(data, batch_size):\n                \n    while True:\n        for df in pd.read_csv(data, chunksize=batch_size):\n            \n            img_names, label = df.id.values, df.label.values\n            X = np.zeros((len(img_names), 96, 96, 3))\n            \n            for i, img_name in enumerate(img_names):\n                X[i, :, :, :] = read_images(path='../input/train', image_id=img_name)\n                \n            yield X, label\n\ndel train_data, val_data, train_set",
      "execution_count": null,
      "outputs": []
    },
    {
      "metadata": {
        "trusted": true,
        "_uuid": "e24d2e6f9f94c445302fe721daaa01007e66480b"
      },
      "cell_type": "code",
      "source": "from sklearn import metrics\n\nval_id = pd.read_csv('../working/val.csv').id.values\nval_y = pd.read_csv('../working/val.csv').label.values\nval_X = np.zeros((len(val_id), 96, 96, 3))\n            \nfor i, img_name in enumerate(val_id):\n    val_X[i, :, :, :] = read_images(path='../input/train', image_id=img_name)\nprint(val_X.shape)\nprint(val_y)\n\ndel val_id",
      "execution_count": null,
      "outputs": []
    },
    {
      "metadata": {
        "trusted": true,
        "_uuid": "11d54e1181d7ab9b5a773222a7b590a1b67792da"
      },
      "cell_type": "code",
      "source": "from keras.applications import DenseNet121\nfrom keras.models import Model\nfrom keras.layers import Input, GlobalAvgPool2D, Dense, Dropout\nfrom keras import metrics\nfrom keras import optimizers\nfrom keras.callbacks import EarlyStopping, ReduceLROnPlateau\n\ninput_tensor = Input(shape=(96, 96, 3))\nbase_model = DenseNet121(input_tensor=input_tensor, include_top=False, weights='imagenet')\nx = base_model.output\nx = GlobalAvgPool2D()(x)\nx = Dropout(0.1)(x)\npredictions = Dense(1, activation='sigmoid')(x)\nmodel = Model(inputs=input_tensor, outputs=predictions)\n#model.summary()",
      "execution_count": null,
      "outputs": []
    },
    {
      "metadata": {
        "trusted": true,
        "_uuid": "337778ab90becf9e44a96224edd672fe1cd26a84"
      },
      "cell_type": "code",
      "source": "from keras import losses\n\nmodel.compile(optimizer= optimizers.Adam(lr=0.01, decay=0.01),\n              loss=losses.binary_crossentropy, \n              metrics=[metrics.binary_accuracy])\ncallbacks = [EarlyStopping(patience=0),ReduceLROnPlateau(patience=0)]",
      "execution_count": null,
      "outputs": []
    },
    {
      "metadata": {
        "trusted": true,
        "_uuid": "9b3a4364163c84cec01690794137a4df3b1e65a4",
        "scrolled": false
      },
      "cell_type": "code",
      "source": "train_gen = generator(data='../working/train.csv', batch_size=64)\n#test_gen = generator(data='../working/val.csv', batch_size=64)\nbatch_size = 64\nmodel.fit_generator(train_gen, verbose=1, steps_per_epoch=train_len/batch_size, epochs=100, \n                    callbacks=callbacks, validation_data=(val_X, val_y))",
      "execution_count": null,
      "outputs": []
    },
    {
      "metadata": {
        "trusted": true,
        "_uuid": "015934dfed90f07d073239cb28f15d4b27d3d7e5"
      },
      "cell_type": "code",
      "source": "from sklearn import metrics\n\npred_glove_val_y = model.predict([val_X], batch_size=64, verbose=1)\nprint(pred_glove_val_y[pred_glove_val_y==1])\nfor thresh in np.arange(0.1, 0.501, 0.01):\n    thresh = np.round(thresh, 2)\n    print(\"F1 score at threshold {0} is {1}\".format(thresh, metrics.f1_score(val_y, (pred_glove_val_y > thresh).astype(int))))",
      "execution_count": null,
      "outputs": []
    },
    {
      "metadata": {
        "trusted": true,
        "_uuid": "85f97a08025892678b47547ff049906c8af869d5"
      },
      "cell_type": "code",
      "source": "from tqdm import tqdm\ntest_set = os.listdir('../input/test')\nlen(test_set)\n\ntest_id = [test_image.replace('.tif', '') for test_image in test_set]\nfinal_output=[]\n\nfor img_name in tqdm(test_id):\n    test_X = read_images(path='../input/test', image_id=img_name)\n    test_X = np.expand_dims(test_X,axis=0)\n    output = model.predict([test_X], batch_size=1, verbose=0)\n    output = (output > 0.5).astype(int)[0][0]\n    #print(output)\n    final_output.append(output)\n    #print(final_output)\n    \nsubmission = pd.DataFrame({'id':test_id,\n                          'label':final_output})\n\nsubmission.head()\nsubmission.to_csv('submission.csv', index=False)\nprint(os.listdir('./'))",
      "execution_count": null,
      "outputs": []
    }
  ],
  "metadata": {
    "kernelspec": {
      "display_name": "Python 3",
      "language": "python",
      "name": "python3"
    },
    "language_info": {
      "name": "python",
      "version": "3.6.6",
      "mimetype": "text/x-python",
      "codemirror_mode": {
        "name": "ipython",
        "version": 3
      },
      "pygments_lexer": "ipython3",
      "nbconvert_exporter": "python",
      "file_extension": ".py"
    }
  },
  "nbformat": 4,
  "nbformat_minor": 1
}